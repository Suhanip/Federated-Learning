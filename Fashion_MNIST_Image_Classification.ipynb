{
  "nbformat": 4,
  "nbformat_minor": 0,
  "metadata": {
    "colab": {
      "name": "Fashion_MNIST_Image_Classification.ipynb",
      "provenance": [],
      "collapsed_sections": [],
      "mount_file_id": "1Ztd0xxzWJW95NPWXjHmyCcxTDFOj0sQh",
      "authorship_tag": "ABX9TyPP4vcSTBOJDLNO8DmZqUn/",
      "include_colab_link": true
    },
    "kernelspec": {
      "name": "python3",
      "display_name": "Python 3"
    }
  },
  "cells": [
    {
      "cell_type": "markdown",
      "metadata": {
        "id": "view-in-github",
        "colab_type": "text"
      },
      "source": [
        "<a href=\"https://colab.research.google.com/github/Suhanip/Federated-Learning/blob/master/Fashion_MNIST_Image_Classification.ipynb\" target=\"_parent\"><img src=\"https://colab.research.google.com/assets/colab-badge.svg\" alt=\"Open In Colab\"/></a>"
      ]
    },
    {
      "cell_type": "markdown",
      "metadata": {
        "id": "nebRCLun9ki7"
      },
      "source": [
        "#Fashion MNIST Dataset"
      ]
    },
    {
      "cell_type": "markdown",
      "metadata": {
        "id": "ZwxzHYjlZ3fJ"
      },
      "source": [
        "##Approach1: Manually creating the workers and dividing the data"
      ]
    },
    {
      "cell_type": "code",
      "metadata": {
        "id": "PNKDZb-d9nE5"
      },
      "source": [
        "import tensorflow as tf\n",
        "import pandas as pd\n",
        "import numpy as np\n",
        "import matplotlib.pyplot as plt\n",
        "import seaborn as sb"
      ],
      "execution_count": 15,
      "outputs": []
    },
    {
      "cell_type": "code",
      "metadata": {
        "id": "Btu2f6V5hRke",
        "outputId": "92f7a8a3-874a-4870-f273-b2833a519a51",
        "colab": {
          "base_uri": "https://localhost:8080/",
          "height": 151
        }
      },
      "source": [
        "fashion_mnist = tf.keras.datasets.fashion_mnist\n",
        "\n",
        "(train_images, train_labels), (test_images, test_labels) = fashion_mnist.load_data()"
      ],
      "execution_count": 18,
      "outputs": [
        {
          "output_type": "stream",
          "text": [
            "Downloading data from https://storage.googleapis.com/tensorflow/tf-keras-datasets/train-labels-idx1-ubyte.gz\n",
            "32768/29515 [=================================] - 0s 0us/step\n",
            "Downloading data from https://storage.googleapis.com/tensorflow/tf-keras-datasets/train-images-idx3-ubyte.gz\n",
            "26427392/26421880 [==============================] - 0s 0us/step\n",
            "Downloading data from https://storage.googleapis.com/tensorflow/tf-keras-datasets/t10k-labels-idx1-ubyte.gz\n",
            "8192/5148 [===============================================] - 0s 0us/step\n",
            "Downloading data from https://storage.googleapis.com/tensorflow/tf-keras-datasets/t10k-images-idx3-ubyte.gz\n",
            "4423680/4422102 [==============================] - 0s 0us/step\n"
          ],
          "name": "stdout"
        }
      ]
    },
    {
      "cell_type": "code",
      "metadata": {
        "id": "U3K_eNht9sd0"
      },
      "source": [
        "#loading data\n",
        "train = pd.read_csv('/content/fashion-mnist_train.csv')"
      ],
      "execution_count": 16,
      "outputs": []
    },
    {
      "cell_type": "code",
      "metadata": {
        "id": "4gXH6u3m-X-E",
        "outputId": "0c9a2db3-b6af-4396-e07d-6b46e062d02b",
        "colab": {
          "base_uri": "https://localhost:8080/",
          "height": 34
        }
      },
      "source": [
        "train_images.shape"
      ],
      "execution_count": 20,
      "outputs": [
        {
          "output_type": "execute_result",
          "data": {
            "text/plain": [
              "(60000, 28, 28)"
            ]
          },
          "metadata": {
            "tags": []
          },
          "execution_count": 20
        }
      ]
    },
    {
      "cell_type": "code",
      "metadata": {
        "id": "GQestzI5GquI"
      },
      "source": [
        "#splitting of data into 3 workers(10000 training each)\n",
        "train1 = train_images[:10000]\n",
        "train2 = train_images[10001:20001]\n",
        "train3 = train_images[20002:30002]"
      ],
      "execution_count": 19,
      "outputs": []
    },
    {
      "cell_type": "code",
      "metadata": {
        "id": "3BCMl_0fVLCK"
      },
      "source": [
        "len1 = len(train1)\n",
        "len2 = len(train2)\n",
        "len3 = len(train3)"
      ],
      "execution_count": 21,
      "outputs": []
    },
    {
      "cell_type": "code",
      "metadata": {
        "id": "RRXOo7qyil8Y"
      },
      "source": [
        "y1 = train_labels[:10000]\n",
        "y2 = train_labels[10001:20001]\n",
        "y3 = train_labels[20002:30002]"
      ],
      "execution_count": 28,
      "outputs": []
    },
    {
      "cell_type": "code",
      "metadata": {
        "id": "fnNHhsbzWXUz",
        "outputId": "0d280067-5b28-4891-e7ce-bcf7a0af8714",
        "colab": {
          "base_uri": "https://localhost:8080/",
          "height": 282
        }
      },
      "source": [
        "df = pd.Series(data=[len1, len2, len3],\n",
        "               index=['Worker1', 'Worker2', 'Worker3'],\n",
        "               name=\"DATA\").rename_axis(\"Data set length\", axis=0)\n",
        "\n",
        "x = df.index\n",
        "y = df.values\n",
        "\n",
        "plt.bar(x, y)"
      ],
      "execution_count": 22,
      "outputs": [
        {
          "output_type": "execute_result",
          "data": {
            "text/plain": [
              "<BarContainer object of 3 artists>"
            ]
          },
          "metadata": {
            "tags": []
          },
          "execution_count": 22
        },
        {
          "output_type": "display_data",
          "data": {
            "image/png": "[encoded data removed]",
            "text/plain": [
              "<Figure size 432x288 with 1 Axes>"
            ]
          },
          "metadata": {
            "tags": [],
            "needs_background": "light"
          }
        }
      ]
    },
    {
      "cell_type": "code",
      "metadata": {
        "id": "avrv0wp7bTyN"
      },
      "source": [
        "# normalizing the input\n",
        "train1 = train1/255.0\n",
        "train2 = train2/255.0\n",
        "train3 = train3/255.0"
      ],
      "execution_count": 25,
      "outputs": []
    },
    {
      "cell_type": "code",
      "metadata": {
        "id": "zfv45K2mbho0"
      },
      "source": [
        "# reshaping images in 3 dimensions\n",
        "train1 = train1.reshape(-1,28,28,1)\n",
        "train2 = train2.reshape(-1,28,28,1)\n",
        "train3 = train3.reshape(-1,28,28,1)"
      ],
      "execution_count": 27,
      "outputs": []
    },
    {
      "cell_type": "code",
      "metadata": {
        "id": "8b-EU_Vobj72"
      },
      "source": [
        "from sklearn.model_selection import train_test_split\n",
        "random_seed = 2\n",
        "x_train1, x_test1, y_train1, y_test1 = train_test_split(train1, y1, test_size=0.2, random_state=random_seed)\n",
        "x_train2, x_test2, y_train2, y_test2 = train_test_split(train2, y2, test_size=0.2, random_state=random_seed)\n",
        "x_train3, x_test3, y_train3, y_test3 = train_test_split(train3, y3, test_size=0.2, random_state=random_seed)"
      ],
      "execution_count": 29,
      "outputs": []
    },
    {
      "cell_type": "code",
      "metadata": {
        "id": "J9R-pEoucR6k"
      },
      "source": [
        "def MODEL1():\n",
        "    model = tf.keras.Sequential([\n",
        "    tf.keras.layers.Flatten(input_shape=(28, 28)),\n",
        "    tf.keras.layers.Dense(128, activation='relu'),\n",
        "    tf.keras.layers.Dense(10)\n",
        "    ])\n",
        "    model.compile(optimizer='adam', loss=tf.keras.losses.SparseCategoricalCrossentropy(from_logits=True), metrics=['accuracy'])\n",
        "    return model"
      ],
      "execution_count": 30,
      "outputs": []
    },
    {
      "cell_type": "code",
      "metadata": {
        "id": "5YAP21u2c_EU"
      },
      "source": [
        "#3 models for 3 workers\n",
        "model1 = MODEL1()\n",
        "model2 = MODEL1()\n",
        "model3 = MODEL1()"
      ],
      "execution_count": 31,
      "outputs": []
    },
    {
      "cell_type": "code",
      "metadata": {
        "id": "tYpTKQ5WdJuc",
        "outputId": "4ac6040a-71d4-4f15-e2f6-4f47ed9d79c6",
        "colab": {
          "base_uri": "https://localhost:8080/",
          "height": 1000
        }
      },
      "source": [
        "#training 3 models for 3 workers\n",
        "for i in range(1):\n",
        "    h1 = model1.fit(x_train1, y_train1, validation_split=0.2, epochs=2, verbose=1)\n",
        "    h2 = model2.fit(x_train2, y_train2, validation_split=0.2, epochs=2, verbose=1)\n",
        "    h3 = model3.fit(x_train3, y_train3, validation_split=0.2, epochs=2, verbose=1)\n",
        "    \n",
        "    plt.plot(h1.history['accuracy'])\n",
        "    plt.plot(h1.history['val_accuracy'])\n",
        "    plt.title('Model Accuracy')\n",
        "    plt.ylabel('Accuracy')\n",
        "    plt.xlabel('Epoch')\n",
        "    plt.legend(['train', 'test'], loc='upper left')\n",
        "    plt.show()\n",
        "    model1.evaluate(x_test1,  y_test1, verbose=2)\n",
        "    \n",
        "    plt.plot(h2.history['accuracy'])\n",
        "    plt.plot(h2.history['val_accuracy'])\n",
        "    plt.title('Model Accuracy')\n",
        "    plt.ylabel('Accuracy')\n",
        "    plt.xlabel('Epoch')\n",
        "    plt.legend(['train', 'test'], loc='upper left')\n",
        "    plt.show()\n",
        "    model2.evaluate(x_test2,  y_test2, verbose=2)\n",
        "    \n",
        "    plt.plot(h3.history['accuracy'])\n",
        "    plt.plot(h3.history['val_accuracy'])\n",
        "    plt.title('Model Accuracy')\n",
        "    plt.ylabel('Accuracy')\n",
        "    plt.xlabel('Epoch')\n",
        "    plt.legend(['train', 'test'], loc='upper left')\n",
        "    plt.show()\n",
        "    model3.evaluate(x_test3,  y_test3, verbose=2)"
      ],
      "execution_count": 32,
      "outputs": [
        {
          "output_type": "stream",
          "text": [
            "Epoch 1/2\n",
            "200/200 [==============================] - 1s 3ms/step - loss: 0.7993 - accuracy: 0.7236 - val_loss: 0.5319 - val_accuracy: 0.8175\n",
            "Epoch 2/2\n",
            "200/200 [==============================] - 0s 2ms/step - loss: 0.5293 - accuracy: 0.8183 - val_loss: 0.5306 - val_accuracy: 0.7981\n",
            "Epoch 1/2\n",
            "200/200 [==============================] - 0s 2ms/step - loss: 0.8164 - accuracy: 0.7120 - val_loss: 0.5995 - val_accuracy: 0.7850\n",
            "Epoch 2/2\n",
            "200/200 [==============================] - 0s 2ms/step - loss: 0.5374 - accuracy: 0.8081 - val_loss: 0.5045 - val_accuracy: 0.8275\n",
            "Epoch 1/2\n",
            "200/200 [==============================] - 1s 3ms/step - loss: 0.7938 - accuracy: 0.7209 - val_loss: 0.6070 - val_accuracy: 0.7831\n",
            "Epoch 2/2\n",
            "200/200 [==============================] - 0s 2ms/step - loss: 0.5268 - accuracy: 0.8241 - val_loss: 0.5130 - val_accuracy: 0.8256\n"
          ],
          "name": "stdout"
        },
        {
          "output_type": "display_data",
          "data": {
            "image/png": "[encoded data removed]",
            "text/plain": [
              "<Figure size 432x288 with 1 Axes>"
            ]
          },
          "metadata": {
            "tags": [],
            "needs_background": "light"
          }
        },
        {
          "output_type": "stream",
          "text": [
            "63/63 - 0s - loss: 0.5711 - accuracy: 0.7865\n"
          ],
          "name": "stdout"
        },
        {
          "output_type": "display_data",
          "data": {
            "image/png": "[encoded data removed]",
            "text/plain": [
              "<Figure size 432x288 with 1 Axes>"
            ]
          },
          "metadata": {
            "tags": [],
            "needs_background": "light"
          }
        },
        {
          "output_type": "stream",
          "text": [
            "63/63 - 0s - loss: 0.5183 - accuracy: 0.8215\n"
          ],
          "name": "stdout"
        },
        {
          "output_type": "display_data",
          "data": {
            "image/png": "[encoded data removed]",
            "text/plain": [
              "<Figure size 432x288 with 1 Axes>"
            ]
          },
          "metadata": {
            "tags": [],
            "needs_background": "light"
          }
        },
        {
          "output_type": "stream",
          "text": [
            "63/63 - 0s - loss: 0.4705 - accuracy: 0.8310\n"
          ],
          "name": "stdout"
        }
      ]
    },
    {
      "cell_type": "code",
      "metadata": {
        "id": "D-3QMdmPf0P9",
        "outputId": "cd9966b9-1bc0-414e-9aa9-e9d32d57ec9e",
        "colab": {
          "base_uri": "https://localhost:8080/",
          "height": 84
        }
      },
      "source": [
        "for i in range(50):\n",
        "    h1 = model1.fit(x_train1, y_train1, validation_split=0.2, epochs=1, verbose=0)\n",
        "    h2 = model2.fit(x_train2, y_train2, validation_split=0.2, epochs=1, verbose=0)\n",
        "    h3 = model3.fit(x_train3, y_train3, validation_split=0.2, epochs=1, verbose=0)\n",
        "    \n",
        "    #getting weights of each models\n",
        "    wt1 = model1.get_weights()\n",
        "    wt2 = model2.get_weights()\n",
        "    wt3 = model3.get_weights()\n",
        "    \n",
        "    a = np.array(wt1)\n",
        "    b = np.array(wt2)\n",
        "    c = np.array(wt3)\n",
        "    \n",
        "    #mean of all the weights\n",
        "    mean = (a+b+c)/3\n",
        "    \n",
        "    #model with new weights\n",
        "    model1.set_weights(mean)\n",
        "    model2.set_weights(mean)\n",
        "    model3.set_weights(mean)\n",
        "\n",
        "model1.evaluate(x_test1,  y_test1, verbose=2)\n",
        "model2.evaluate(x_test2,  y_test2, verbose=2)\n",
        "model3.evaluate(x_test3,  y_test3, verbose=2)"
      ],
      "execution_count": 33,
      "outputs": [
        {
          "output_type": "stream",
          "text": [
            "63/63 - 0s - loss: 0.3190 - accuracy: 0.8880\n",
            "63/63 - 0s - loss: 0.3652 - accuracy: 0.8780\n",
            "63/63 - 0s - loss: 0.3337 - accuracy: 0.8885\n"
          ],
          "name": "stdout"
        },
        {
          "output_type": "execute_result",
          "data": {
            "text/plain": [
              "[0.33366522192955017, 0.8884999752044678]"
            ]
          },
          "metadata": {
            "tags": []
          },
          "execution_count": 33
        }
      ]
    },
    {
      "cell_type": "code",
      "metadata": {
        "id": "pE11qcdxd7A_"
      },
      "source": [
        "#accuracy for new_model is 88.84%"
      ],
      "execution_count": 34,
      "outputs": []
    },
    {
      "cell_type": "markdown",
      "metadata": {
        "id": "G-wVvO7nFWJw"
      },
      "source": [
        "##Approach2: Federated learning using Pytorch and Pysyft"
      ]
    },
    {
      "cell_type": "markdown",
      "metadata": {
        "id": "KzaVJpEEWrrv"
      },
      "source": [
        "###Importing libraries and creating workers"
      ]
    },
    {
      "cell_type": "code",
      "metadata": {
        "id": "SHs4qWI2_WRs"
      },
      "source": [
        "import torch\n",
        "import torch.nn as nn\n",
        "import torch.nn.functional as F\n",
        "import torch.optim as optim\n",
        "from torchvision import datasets, transforms\n",
        "import logging\n",
        "\n",
        "# import Pysyft to help us to simulate federated leraning\n",
        "!pip install syft\n",
        "import syft as sy\n",
        "\n",
        "# hook PyTorch to PySyft i.e. add extra functionalities to support Federated Learning\n",
        "# and other private AI tools\n",
        "hook = sy.TorchHook(torch) \n",
        "\n",
        "# we create two imaginary schools\n",
        "westside_school = sy.VirtualWorker(hook, id=\"westside\")\n",
        "grapevine_high = sy.VirtualWorker(hook, id=\"grapevine\")"
      ],
      "execution_count": null,
      "outputs": []
    },
    {
      "cell_type": "markdown",
      "metadata": {
        "id": "klf_t-q5W6J_"
      },
      "source": [
        "###Defining the hyper_parameters such as batch_size,learning_rate etc"
      ]
    },
    {
      "cell_type": "code",
      "metadata": {
        "id": "geaLbeViAHSf"
      },
      "source": [
        "\n",
        "# define the args\n",
        "args = {\n",
        "    'use_cuda' : True,\n",
        "    'batch_size' : 64,\n",
        "    'test_batch_size' : 1000,\n",
        "    'lr' : 0.01,\n",
        "    'log_interval' : 100,\n",
        "    'epochs' : 10\n",
        "}\n",
        "\n",
        "# check to use GPU or not\n",
        "use_cuda = args['use_cuda'] and torch.cuda.is_available()\n",
        "device = torch.device(\"cuda\" if use_cuda else \"cpu\")"
      ],
      "execution_count": null,
      "outputs": []
    },
    {
      "cell_type": "markdown",
      "metadata": {
        "id": "5KpGEl6LaO6f"
      },
      "source": [
        "###Simple CNN Model"
      ]
    },
    {
      "cell_type": "code",
      "metadata": {
        "id": "TkdZQyLPA67K"
      },
      "source": [
        "class Net(nn.Module):\n",
        "    \n",
        "    def __init__(self):\n",
        "        super(Net, self).__init__()\n",
        "        \n",
        "        self.conv = nn.Sequential(\n",
        "            nn.Conv2d(in_channels = 1, out_channels = 32, kernel_size = 3, stride = 1),\n",
        "            nn.ReLU(),\n",
        "            nn.Conv2d(in_channels=32,out_channels = 64, kernel_size = 3, stride = 1),\n",
        "            nn.ReLU()\n",
        "        )\n",
        "        \n",
        "        self.fc = nn.Sequential(\n",
        "            nn.Linear(in_features=64*12*12, out_features=128),\n",
        "            nn.ReLU(),\n",
        "            nn.Linear(in_features=128, out_features=10),\n",
        "        )\n",
        "    \n",
        "    def forward(self, x):\n",
        "        x = self.conv(x)\n",
        "        x = F.max_pool2d(x,2)\n",
        "        x = x.view(-1, 64*12*12)\n",
        "        x = self.fc(x)\n",
        "        x = F.log_softmax(x, dim=1)\n",
        "        return x"
      ],
      "execution_count": null,
      "outputs": []
    },
    {
      "cell_type": "markdown",
      "metadata": {
        "id": "6QhGR9FxXYW4"
      },
      "source": [
        "###SENDING DATA TO REMOTE WORKERS\n",
        "\n",
        "Load the data first and then transform the data into a federated dataset using .federate() method. \n",
        "It does a couple of things:\n",
        "\n",
        "*   It splits the dataset in two parts (which was also done by the torch Data Loader as well)\n",
        "*   But the extra thing it does is it also sends this data across two remote workers, in this case the two schools.\n",
        "\n",
        "\n",
        "\n",
        "then used this newly created federated dataset to iterate over remote batches during the training loop."
      ]
    },
    {
      "cell_type": "code",
      "metadata": {
        "id": "z5ZiQOWgBGP4"
      },
      "source": [
        "federated_train_loader = sy.FederatedDataLoader(\n",
        "    datasets.FashionMNIST('../data', train=True, download=True,\n",
        "                   transform=transforms.Compose([\n",
        "                       transforms.ToTensor(),\n",
        "                       transforms.Normalize((0.1307,), (0.3081,))\n",
        "                   ]))\n",
        "    .federate((grapevine_high, westside_school)),\n",
        "    batch_size=args['batch_size'], shuffle=True)\n",
        "\n",
        "test_loader = torch.utils.data.DataLoader(\n",
        "        datasets.FashionMNIST('../data', train=False, transform=transforms.Compose([\n",
        "                           transforms.ToTensor(),\n",
        "                           transforms.Normalize((0.1307,), (0.3081,))\n",
        "                       ])),\n",
        "        batch_size=args['test_batch_size'], shuffle=True)"
      ],
      "execution_count": null,
      "outputs": []
    },
    {
      "cell_type": "code",
      "metadata": {
        "id": "1KPwwmu4BLgw",
        "outputId": "f3910fad-2e33-4e3c-cd08-484886c77c4f",
        "colab": {
          "base_uri": "https://localhost:8080/",
          "height": 84
        }
      },
      "source": [
        "for images,labels in federated_train_loader:\n",
        "    print(images) # batch of images pointers\n",
        "    print(labels) # batch of image labels pointers\n",
        "    \n",
        "    print(len(images)) # len function works on pointers as well\n",
        "    print(len(labels))\n",
        "    break"
      ],
      "execution_count": null,
      "outputs": [
        {
          "output_type": "stream",
          "text": [
            "(Wrapper)>[PointerTensor | me:91718234201 -> grapevine:21636052621]\n",
            "(Wrapper)>[PointerTensor | me:73961953267 -> grapevine:42421860582]\n",
            "64\n",
            "64\n"
          ],
          "name": "stdout"
        }
      ]
    },
    {
      "cell_type": "markdown",
      "metadata": {
        "id": "uDL1XxM8YXuf"
      },
      "source": [
        "###Training and validating the model\n",
        "\n",
        "Now each time train the model, that is needed to be sent to the right location for each batch by using .send() function\n",
        "\n",
        "Then, all the operations are performed remotely with the same syntax like done in local PyTorch. When we're done, we get back the updated model using the .get() method."
      ]
    },
    {
      "cell_type": "code",
      "metadata": {
        "id": "jsy-E4_cBazn"
      },
      "source": [
        "def train(args, model, device, train_loader, optimizer, epoch):\n",
        "    model.train()\n",
        "\n",
        "    # iterate over federated data\n",
        "    for batch_idx, (data, target) in enumerate(train_loader):\n",
        "\n",
        "        # send the model to the remote location \n",
        "        model = model.send(data.location)\n",
        "\n",
        "        # the same torch code that we are use to\n",
        "        data, target = data.to(device), target.to(device)\n",
        "        optimizer.zero_grad()\n",
        "        output = model(data)\n",
        "\n",
        "        # this loss is a ptr to the tensor loss \n",
        "        # at the remote location\n",
        "        loss = F.nll_loss(output, target)\n",
        "\n",
        "        # call backward() on the loss ptr,\n",
        "        # that will send the command to call\n",
        "        # backward on the actual loss tensor\n",
        "        # present on the remote machine\n",
        "        loss.backward()\n",
        "\n",
        "        optimizer.step()\n",
        "\n",
        "        # get back the updated model\n",
        "        model.get()\n",
        "\n",
        "        if batch_idx % args['log_interval'] == 0:\n",
        "\n",
        "            # a thing to note is the variable loss was\n",
        "            # also created at remote worker, so we need to\n",
        "            # explicitly get it back\n",
        "            loss = loss.get()\n",
        "\n",
        "            print('Train Epoch: {} [{}/{} ({:.0f}%)]\\tLoss: {:.6f}'.format(\n",
        "                    epoch, \n",
        "                    batch_idx * args['batch_size'], # no of images done\n",
        "                    len(train_loader) * args['batch_size'], # total images left\n",
        "                    100. * batch_idx / len(train_loader), \n",
        "                    loss.item()\n",
        "                )\n",
        "            )"
      ],
      "execution_count": null,
      "outputs": []
    },
    {
      "cell_type": "code",
      "metadata": {
        "id": "cl7uTqgABgeY"
      },
      "source": [
        "def test(model, device, test_loader):\n",
        "    model.eval()\n",
        "    test_loss = 0\n",
        "    correct = 0\n",
        "    with torch.no_grad():\n",
        "        for data, target in test_loader:\n",
        "            data, target = data.to(device), target.to(device)\n",
        "            output = model(data)\n",
        "\n",
        "            # add losses together\n",
        "            test_loss += F.nll_loss(output, target, reduction='sum').item() \n",
        "\n",
        "            # get the index of the max probability class\n",
        "            pred = output.argmax(dim=1, keepdim=True)  \n",
        "            correct += pred.eq(target.view_as(pred)).sum().item()\n",
        "\n",
        "    test_loss /= len(test_loader.dataset)\n",
        "\n",
        "    print('\\nTest set: Average loss: {:.4f}, Accuracy: {}/{} ({:.0f}%)\\n'.format(\n",
        "        test_loss, correct, len(test_loader.dataset),\n",
        "        100. * correct / len(test_loader.dataset)))"
      ],
      "execution_count": null,
      "outputs": []
    },
    {
      "cell_type": "code",
      "metadata": {
        "id": "HTkIlX4MBkzX",
        "outputId": "3e204fde-a71b-4ba1-cee8-a180f8efba10",
        "colab": {
          "base_uri": "https://localhost:8080/",
          "height": 1000
        }
      },
      "source": [
        "\n",
        "model = Net().to(device)\n",
        "optimizer = optim.SGD(model.parameters(), lr=args['lr'])\n",
        "\n",
        "logging.info(\"Starting training !!\")\n",
        "\n",
        "for epoch in range(1, args['epochs'] + 1):\n",
        "        train(args, model, device, federated_train_loader, optimizer, epoch)\n",
        "        test(model, device, test_loader)\n",
        "    \n",
        "# thats all we need to do XD"
      ],
      "execution_count": null,
      "outputs": [
        {
          "output_type": "stream",
          "text": [
            "Train Epoch: 1 [0/60032 (0%)]\tLoss: 2.296969\n",
            "Train Epoch: 1 [6400/60032 (11%)]\tLoss: 0.665887\n",
            "Train Epoch: 1 [12800/60032 (21%)]\tLoss: 0.776979\n",
            "Train Epoch: 1 [19200/60032 (32%)]\tLoss: 0.545363\n",
            "Train Epoch: 1 [25600/60032 (43%)]\tLoss: 0.636503\n",
            "Train Epoch: 1 [32000/60032 (53%)]\tLoss: 0.677906\n",
            "Train Epoch: 1 [38400/60032 (64%)]\tLoss: 0.638186\n",
            "Train Epoch: 1 [44800/60032 (75%)]\tLoss: 0.666836\n",
            "Train Epoch: 1 [51200/60032 (85%)]\tLoss: 0.465158\n",
            "Train Epoch: 1 [57600/60032 (96%)]\tLoss: 0.567458\n",
            "\n",
            "Test set: Average loss: 0.5214, Accuracy: 8108/10000 (81%)\n",
            "\n",
            "Train Epoch: 2 [0/60032 (0%)]\tLoss: 0.571922\n",
            "Train Epoch: 2 [6400/60032 (11%)]\tLoss: 0.516779\n",
            "Train Epoch: 2 [12800/60032 (21%)]\tLoss: 0.592080\n",
            "Train Epoch: 2 [19200/60032 (32%)]\tLoss: 0.461282\n",
            "Train Epoch: 2 [25600/60032 (43%)]\tLoss: 0.464961\n",
            "Train Epoch: 2 [32000/60032 (53%)]\tLoss: 0.379698\n",
            "Train Epoch: 2 [38400/60032 (64%)]\tLoss: 0.496116\n",
            "Train Epoch: 2 [44800/60032 (75%)]\tLoss: 0.329194\n",
            "Train Epoch: 2 [51200/60032 (85%)]\tLoss: 0.374751\n",
            "Train Epoch: 2 [57600/60032 (96%)]\tLoss: 0.477268\n",
            "\n",
            "Test set: Average loss: 0.4358, Accuracy: 8447/10000 (84%)\n",
            "\n",
            "Train Epoch: 3 [0/60032 (0%)]\tLoss: 0.580441\n",
            "Train Epoch: 3 [6400/60032 (11%)]\tLoss: 0.396779\n",
            "Train Epoch: 3 [12800/60032 (21%)]\tLoss: 0.339162\n",
            "Train Epoch: 3 [19200/60032 (32%)]\tLoss: 0.443020\n",
            "Train Epoch: 3 [25600/60032 (43%)]\tLoss: 0.354685\n",
            "Train Epoch: 3 [32000/60032 (53%)]\tLoss: 0.342905\n",
            "Train Epoch: 3 [38400/60032 (64%)]\tLoss: 0.293804\n",
            "Train Epoch: 3 [44800/60032 (75%)]\tLoss: 0.421124\n",
            "Train Epoch: 3 [51200/60032 (85%)]\tLoss: 0.294556\n",
            "Train Epoch: 3 [57600/60032 (96%)]\tLoss: 0.341806\n",
            "\n",
            "Test set: Average loss: 0.3761, Accuracy: 8650/10000 (86%)\n",
            "\n",
            "Train Epoch: 4 [0/60032 (0%)]\tLoss: 0.317725\n",
            "Train Epoch: 4 [6400/60032 (11%)]\tLoss: 0.308133\n",
            "Train Epoch: 4 [12800/60032 (21%)]\tLoss: 0.484548\n",
            "Train Epoch: 4 [19200/60032 (32%)]\tLoss: 0.542802\n",
            "Train Epoch: 4 [25600/60032 (43%)]\tLoss: 0.397401\n",
            "Train Epoch: 4 [32000/60032 (53%)]\tLoss: 0.342689\n",
            "Train Epoch: 4 [38400/60032 (64%)]\tLoss: 0.286493\n",
            "Train Epoch: 4 [44800/60032 (75%)]\tLoss: 0.449426\n",
            "Train Epoch: 4 [51200/60032 (85%)]\tLoss: 0.235932\n",
            "Train Epoch: 4 [57600/60032 (96%)]\tLoss: 0.507365\n",
            "\n",
            "Test set: Average loss: 0.3510, Accuracy: 8751/10000 (88%)\n",
            "\n",
            "Train Epoch: 5 [0/60032 (0%)]\tLoss: 0.308155\n",
            "Train Epoch: 5 [6400/60032 (11%)]\tLoss: 0.449045\n",
            "Train Epoch: 5 [12800/60032 (21%)]\tLoss: 0.148288\n",
            "Train Epoch: 5 [19200/60032 (32%)]\tLoss: 0.550347\n",
            "Train Epoch: 5 [25600/60032 (43%)]\tLoss: 0.260887\n",
            "Train Epoch: 5 [32000/60032 (53%)]\tLoss: 0.232994\n",
            "Train Epoch: 5 [38400/60032 (64%)]\tLoss: 0.315804\n",
            "Train Epoch: 5 [44800/60032 (75%)]\tLoss: 0.227293\n",
            "Train Epoch: 5 [51200/60032 (85%)]\tLoss: 0.221031\n",
            "Train Epoch: 5 [57600/60032 (96%)]\tLoss: 0.187468\n",
            "\n",
            "Test set: Average loss: 0.3325, Accuracy: 8800/10000 (88%)\n",
            "\n",
            "Train Epoch: 6 [0/60032 (0%)]\tLoss: 0.419015\n",
            "Train Epoch: 6 [6400/60032 (11%)]\tLoss: 0.398374\n",
            "Train Epoch: 6 [12800/60032 (21%)]\tLoss: 0.398613\n",
            "Train Epoch: 6 [19200/60032 (32%)]\tLoss: 0.261806\n",
            "Train Epoch: 6 [25600/60032 (43%)]\tLoss: 0.181555\n",
            "Train Epoch: 6 [32000/60032 (53%)]\tLoss: 0.270664\n",
            "Train Epoch: 6 [38400/60032 (64%)]\tLoss: 0.508069\n",
            "Train Epoch: 6 [44800/60032 (75%)]\tLoss: 0.217101\n",
            "Train Epoch: 6 [51200/60032 (85%)]\tLoss: 0.262959\n",
            "Train Epoch: 6 [57600/60032 (96%)]\tLoss: 0.404721\n",
            "\n",
            "Test set: Average loss: 0.3690, Accuracy: 8561/10000 (86%)\n",
            "\n",
            "Train Epoch: 7 [0/60032 (0%)]\tLoss: 0.282973\n",
            "Train Epoch: 7 [6400/60032 (11%)]\tLoss: 0.346462\n",
            "Train Epoch: 7 [12800/60032 (21%)]\tLoss: 0.379018\n",
            "Train Epoch: 7 [19200/60032 (32%)]\tLoss: 0.199540\n",
            "Train Epoch: 7 [25600/60032 (43%)]\tLoss: 0.238826\n",
            "Train Epoch: 7 [32000/60032 (53%)]\tLoss: 0.157182\n",
            "Train Epoch: 7 [38400/60032 (64%)]\tLoss: 0.183207\n",
            "Train Epoch: 7 [44800/60032 (75%)]\tLoss: 0.248853\n",
            "Train Epoch: 7 [51200/60032 (85%)]\tLoss: 0.308873\n",
            "Train Epoch: 7 [57600/60032 (96%)]\tLoss: 0.328363\n",
            "\n",
            "Test set: Average loss: 0.3069, Accuracy: 8854/10000 (89%)\n",
            "\n",
            "Train Epoch: 8 [0/60032 (0%)]\tLoss: 0.264864\n",
            "Train Epoch: 8 [6400/60032 (11%)]\tLoss: 0.481614\n",
            "Train Epoch: 8 [12800/60032 (21%)]\tLoss: 0.203496\n",
            "Train Epoch: 8 [19200/60032 (32%)]\tLoss: 0.394938\n",
            "Train Epoch: 8 [25600/60032 (43%)]\tLoss: 0.192925\n",
            "Train Epoch: 8 [32000/60032 (53%)]\tLoss: 0.117413\n",
            "Train Epoch: 8 [38400/60032 (64%)]\tLoss: 0.204722\n",
            "Train Epoch: 8 [44800/60032 (75%)]\tLoss: 0.166204\n",
            "Train Epoch: 8 [51200/60032 (85%)]\tLoss: 0.138194\n",
            "Train Epoch: 8 [57600/60032 (96%)]\tLoss: 0.122171\n",
            "\n",
            "Test set: Average loss: 0.2967, Accuracy: 8916/10000 (89%)\n",
            "\n",
            "Train Epoch: 9 [0/60032 (0%)]\tLoss: 0.218487\n",
            "Train Epoch: 9 [6400/60032 (11%)]\tLoss: 0.319672\n",
            "Train Epoch: 9 [12800/60032 (21%)]\tLoss: 0.231824\n",
            "Train Epoch: 9 [19200/60032 (32%)]\tLoss: 0.311967\n",
            "Train Epoch: 9 [25600/60032 (43%)]\tLoss: 0.218264\n",
            "Train Epoch: 9 [32000/60032 (53%)]\tLoss: 0.141311\n",
            "Train Epoch: 9 [38400/60032 (64%)]\tLoss: 0.290313\n",
            "Train Epoch: 9 [44800/60032 (75%)]\tLoss: 0.270897\n",
            "Train Epoch: 9 [51200/60032 (85%)]\tLoss: 0.341308\n",
            "Train Epoch: 9 [57600/60032 (96%)]\tLoss: 0.296660\n",
            "\n",
            "Test set: Average loss: 0.2839, Accuracy: 8975/10000 (90%)\n",
            "\n",
            "Train Epoch: 10 [0/60032 (0%)]\tLoss: 0.134946\n",
            "Train Epoch: 10 [6400/60032 (11%)]\tLoss: 0.311904\n",
            "Train Epoch: 10 [12800/60032 (21%)]\tLoss: 0.207448\n",
            "Train Epoch: 10 [19200/60032 (32%)]\tLoss: 0.228013\n",
            "Train Epoch: 10 [25600/60032 (43%)]\tLoss: 0.245735\n",
            "Train Epoch: 10 [32000/60032 (53%)]\tLoss: 0.268299\n",
            "Train Epoch: 10 [38400/60032 (64%)]\tLoss: 0.216537\n",
            "Train Epoch: 10 [44800/60032 (75%)]\tLoss: 0.089234\n",
            "Train Epoch: 10 [51200/60032 (85%)]\tLoss: 0.329030\n",
            "Train Epoch: 10 [57600/60032 (96%)]\tLoss: 0.160582\n",
            "\n",
            "Test set: Average loss: 0.3162, Accuracy: 8869/10000 (89%)\n",
            "\n"
          ],
          "name": "stdout"
        }
      ]
    },
    {
      "cell_type": "code",
      "metadata": {
        "id": "xlzKnfJrBoz7"
      },
      "source": [
        "#Accuracy for this model: 89%"
      ],
      "execution_count": null,
      "outputs": []
    }
  ]
}